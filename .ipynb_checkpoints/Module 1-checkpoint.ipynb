{
 "cells": [
  {
   "cell_type": "markdown",
   "id": "a1478668",
   "metadata": {},
   "source": [
    "## Python Assignment | Module – 1 (SDLC)"
   ]
  },
  {
   "cell_type": "markdown",
   "id": "31532d91",
   "metadata": {},
   "source": [
    "### 1. What is Software?"
   ]
  },
  {
   "cell_type": "markdown",
   "id": "a9f16d0c",
   "metadata": {},
   "source": [
    "- Software is a set of instructions, data or programs used to operate computers and execute specific tasks. \n",
    "- It is the opposite of hardware, which describes the physical aspects of a computer. Software is a generic term used to refer to applications, scripts and programs that run on a device.\n",
    "- The two main types of software are system software and application software.\n",
    "- An application software is software that fulfills a specific need or performs tasks. System software is designed to run a computer's hardware and provides a platform for applications to run on top of."
   ]
  },
  {
   "cell_type": "markdown",
   "id": "78d8275c",
   "metadata": {},
   "source": [
    "### 2. What are the types of Applications?"
   ]
  },
  {
   "cell_type": "markdown",
   "id": "95ec2c41",
   "metadata": {},
   "source": [
    "There are mainly Three Types of Application:"
   ]
  },
  {
   "cell_type": "markdown",
   "id": "afa9363d",
   "metadata": {},
   "source": [
    "**i. Desktop Application**: \n",
    "- A desktop application is a software program that can be run on a standalone computer to perform a specific task by an end-user.\n",
    "- Some desktop applications such as word editor, photo editing app and media player allow you to perform different tasks while other such as gaming apps are developed purely for entertainment."
   ]
  },
  {
   "cell_type": "markdown",
   "id": "836f3f50",
   "metadata": {},
   "source": [
    "**ii. Mobile Application:**\n",
    "- A mobile app (or mobile application) is a software application developed specifically for use on small, wireless computing devices, such as smartphones and tablets, rather than desktop or laptop computers.\n",
    "-  This use of app software was originally popularized by Apple Inc. and its App Store, which offers thousands of applications for the iPhone, iPad and iPod Touch."
   ]
  },
  {
   "cell_type": "markdown",
   "id": "dd72d65e",
   "metadata": {},
   "source": [
    "**iii. Web Application:**\n",
    "- A web-application is an application program that is usually stored on a remote server, and users can access it through the use of Software known as web-browser.\n",
    "- It is a type of computer program that usually runs with the help of a web browser and also uses many web technologies to perform various tasks on the internet.\n",
    "- Web applications include online forms, shopping carts, word processors, spreadsheets, video and photo editing, file conversion, file scanning, and email programs such as Gmail, Yahoo and AOL."
   ]
  },
  {
   "cell_type": "markdown",
   "id": "d44a096c",
   "metadata": {},
   "source": [
    "### 3. What is programming?"
   ]
  },
  {
   "cell_type": "markdown",
   "id": "6a04feee",
   "metadata": {},
   "source": [
    "- A computer program consists of code that is executed on a computer to perform particular tasks. This code is written by programmers.\n",
    "- Programming is the process of giving machines a set of instructions that describe how a program should be carried out. Programmers will spend their whole careers learning a variety of programming languages and tools so they can effectively build computer programs.\n",
    "- Programmers will start by using a code editor or IDE to write what is called source code. This is a collection of code written in a programming language that other programmers can read."
   ]
  },
  {
   "cell_type": "markdown",
   "id": "42fb8cae",
   "metadata": {},
   "source": [
    "### 4. What is Python?"
   ]
  },
  {
   "cell_type": "markdown",
   "id": "02c403b7",
   "metadata": {},
   "source": [
    "- Python is a computer programming language often used to build websites and software, automate tasks, and conduct data analysis.\n",
    "- Python is a general-purpose language, meaning it can be used to create a variety of different programs and isn’t specialized for any specific problems. \n",
    "- This versatility, along with its beginner-friendliness, has made it one of the most-used programming languages today.\n",
    "- Python is commonly used for developing websites and software, task automation, data analysis, and data visualization. Since it’s relatively easy to learn, Python has been adopted by many non-programmers such as accountants and scientists, for a variety of everyday tasks, like organizing finances."
   ]
  }
 ],
 "metadata": {
  "kernelspec": {
   "display_name": "Python 3 (ipykernel)",
   "language": "python",
   "name": "python3"
  },
  "language_info": {
   "codemirror_mode": {
    "name": "ipython",
    "version": 3
   },
   "file_extension": ".py",
   "mimetype": "text/x-python",
   "name": "python",
   "nbconvert_exporter": "python",
   "pygments_lexer": "ipython3",
   "version": "3.9.13"
  }
 },
 "nbformat": 4,
 "nbformat_minor": 5
}
