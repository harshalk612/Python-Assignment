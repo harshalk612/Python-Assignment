{
 "cells": [
  {
   "cell_type": "markdown",
   "id": "05ba0c89",
   "metadata": {},
   "source": [
    "## Python Assignment | Module – 3 (Collections, functions and Modules)"
   ]
  },
  {
   "cell_type": "markdown",
   "id": "a30c7c6f",
   "metadata": {},
   "source": [
    "### 1. What is List? How will you reverse a list?"
   ]
  },
  {
   "cell_type": "markdown",
   "id": "d4ecf642",
   "metadata": {},
   "source": [
    "- Lists are used to store multiple items in a single variable. Lists are one of 4 built-in data types in Python used to store collections of data, the other 3 are Tuple, Set, and Dictionary, all with different qualities and usage.\n",
    "- In Python, a built-in function called reverse() is used to reverse the list. This simple and quick way to reverse a list in Python requires little memory. \n",
    "`\n",
    "Syntax: list_name.reverse() \n",
    "`\n",
    "- Here, list_name means you have to write the list's name, which has to be reversed."
   ]
  },
  {
   "cell_type": "markdown",
   "id": "9c605036",
   "metadata": {},
   "source": [
    "### 2. How will you remove last object from a list? Suppose list1 is [2, 33, 222, 14, and 25], what is list1 [-1]?"
   ]
  },
  {
   "cell_type": "markdown",
   "id": "31f61e59",
   "metadata": {},
   "source": [
    "- The List library contains a large number of methods, but the one which we will be using is a method called List.pop(). \n",
    "- This method takes one argument, index. The element at the specified position is deleted by this method. However, this argument is optional and if no index is specified then the last element of the list is deleted. \n",
    "- The method returns the element which is popped. Note that the result of this operation is inplace, i.e the change takes place in the list itself\n",
    "- The Second Question's Solution is given as below:"
   ]
  },
  {
   "cell_type": "code",
   "execution_count": 1,
   "id": "7d9c86e0",
   "metadata": {},
   "outputs": [
    {
     "name": "stdout",
     "output_type": "stream",
     "text": [
      "Modified List: [2, 33, 222, 14] | Last Element: 25\n"
     ]
    }
   ],
   "source": [
    "list1 = [2,33,222,14,25]\n",
    "last_element = list1.pop()\n",
    "print(\"Modified List:\",list1, \"| Last Element:\", last_element)\n",
    "\n",
    "# Here POP method has return last element which is 25 in this case --> list1[-1] \n",
    "# and make changes in orignal list which is a Inline Change"
   ]
  },
  {
   "cell_type": "markdown",
   "id": "99c7bb26",
   "metadata": {},
   "source": [
    "### 3. Differentiate between append() and extend() methods?"
   ]
  },
  {
   "cell_type": "markdown",
   "id": "88bc2f42",
   "metadata": {},
   "source": [
    "- The append() method in the programming language Python adds an item to a list that already exists whereas the extend() method adds each of the iterable element which is supplied as a parameter to the end of the original list."
   ]
  },
  {
   "cell_type": "code",
   "execution_count": 8,
   "id": "d6cc1687",
   "metadata": {},
   "outputs": [
    {
     "name": "stdout",
     "output_type": "stream",
     "text": [
      "[2, 3, 4, [5, 6]]\n",
      "[2, 3, 4, 5, 6]\n"
     ]
    }
   ],
   "source": [
    "# EXAMPLEEE\n",
    "# the first step would be assigning two lists\n",
    "list_one = [2, 3, 4]\n",
    "list_two = [2, 3, 4]\n",
    "\n",
    "x = [5, 6]\n",
    "\n",
    "# use the two different methods\n",
    "list_one.append(x)\n",
    "list_two.extend(x)\n",
    "\n",
    "# displaying the lists using the print statement.\n",
    "print(list_one)\n",
    "#printing the second list\n",
    "print(list_two)"
   ]
  },
  {
   "cell_type": "markdown",
   "id": "8b51b96d",
   "metadata": {},
   "source": [
    "-  As Here we can see above when using append method it inserts whole list x as a one single element to the list whereas when using extend method it inserts one by one element of list x and adds to the end of the list not as a single list but individual elements."
   ]
  },
  {
   "cell_type": "markdown",
   "id": "724f5d16",
   "metadata": {},
   "source": [
    "### 4. Write a Python function to get the largest number, smallest num and sum of all from a list."
   ]
  },
  {
   "cell_type": "code",
   "execution_count": 15,
   "id": "d78a567a",
   "metadata": {},
   "outputs": [
    {
     "name": "stdout",
     "output_type": "stream",
     "text": [
      "Enter the number of integers present in the list: 4\n",
      "Element No 1: 2\n",
      "Element No 2: 3\n",
      "Element No 3: 1\n",
      "Element No 4: 2\n",
      "\n",
      "Max Number: 3 | Min Number: 1 | Sum: 10\n"
     ]
    }
   ],
   "source": [
    "# Function for Finding Max,Min and Sum of List\n",
    "def listFunc(user_list):\n",
    "    max_no = max(user_list)\n",
    "    min_no = min(user_list)\n",
    "    sum_no = 0\n",
    "    for i in user_list:\n",
    "        sum_no += i\n",
    "    return max_no,min_no,sum_no\n",
    "\n",
    "# Number of Integers Variable\n",
    "no_number = int(input(\"Enter the number of integers present in the list: \"))\n",
    "user_list = []\n",
    "\n",
    "for i in range(no_number):\n",
    "    item = int(input(f\"Element No {i+1}: \"))\n",
    "    user_list.append(item)\n",
    "    \n",
    "# Calling the Function \n",
    "max_no, min_no, sum_no = listFunc(user_list)\n",
    "\n",
    "# OUPUTTTTTT\n",
    "print(f\"\\nMax Number: {max_no} | Min Number: {min_no} | Sum: {sum_no}\")"
   ]
  },
  {
   "cell_type": "markdown",
   "id": "e7f50820",
   "metadata": {},
   "source": [
    "### 5. How will you compare two lists?"
   ]
  },
  {
   "cell_type": "markdown",
   "id": "d1300f6d",
   "metadata": {},
   "source": [
    "- The list in python is a collection of similar items. We may at times need to compare data items in the two lists to perform certain operations. We will discuss certain methods to compare two lists in python.\n",
    "\n",
    "**Using list.sort() and == operator**\n",
    "- The list.sort() method sorts the two lists and the == operator compares the two lists item by item which means they have equal data items at equal positions. This checks if the list contains equal data item values but it does not take into account the order of elements in the list.\n",
    "- This means that the list [1,2,3] will be equal to the list [2,1,3] according to this method of comparison.\n",
    "\n",
    "**__EXAMPLE:__**"
   ]
  },
  {
   "cell_type": "code",
   "execution_count": 18,
   "id": "39a7260f",
   "metadata": {},
   "outputs": [
    {
     "name": "stdout",
     "output_type": "stream",
     "text": [
      "First comparison:  Both List are Equal\n",
      "Second comparison:  Both List are Non equal\n"
     ]
    }
   ],
   "source": [
    "# Function for Comparing Two Lists\n",
    "def compareList(list1,list2):\n",
    "    list1.sort()\n",
    "    list2.sort()\n",
    "    if(list1==list2):\n",
    "        return \"Both List are Equal\"\n",
    "    else:\n",
    "        return \"Both List are Non equal\"\n",
    "\n",
    "list1=[1,2,3]\n",
    "list2=[2,1,3]\n",
    "print(\"First comparison: \",compareList(list1,list2))\n",
    "list3=[1,2,3]\n",
    "list4=[1,2,4]\n",
    "print(\"Second comparison: \",compareList(list3,list4))"
   ]
  },
  {
   "cell_type": "markdown",
   "id": "f9c513e7",
   "metadata": {},
   "source": [
    "### 6. Write a Python program to count the number of strings where the string length is 2 or more and the first and last character are same from a given list of strings."
   ]
  },
  {
   "cell_type": "code",
   "execution_count": 8,
   "id": "8f0aa914",
   "metadata": {},
   "outputs": [
    {
     "name": "stdout",
     "output_type": "stream",
     "text": [
      "Enter the Number of Strings:5\n",
      "Enter String No 1: xyz\n",
      "Enter String No 2: abc\n",
      "Enter String No 3: 1211123\n",
      "Enter String No 4: Harshalh\n",
      "Enter String No 5: Kakaiyak\n",
      "\n",
      "Number of Strings: 2\n"
     ]
    }
   ],
   "source": [
    "# Number of Strings that will be there in the List\n",
    "no_strings = int(input(\"Enter the Number of Strings:\" ))\n",
    "strings_list = []\n",
    "\n",
    "for i in range(no_strings):\n",
    "    string_item = input(f\"Enter String No {i+1}: \")\n",
    "    strings_list.append(string_item)\n",
    "    \n",
    "count = 0\n",
    "\n",
    "# Using For Loop for checking Condition for Each Item\n",
    "for i in strings_list:\n",
    "    if (len(i) >= 2) and (i[0].lower() == i[-1].lower()):\n",
    "        count += 1\n",
    "\n",
    "print(\"\\nNumber of Strings:\", count)"
   ]
  },
  {
   "cell_type": "markdown",
   "id": "5aa20263",
   "metadata": {},
   "source": [
    "### 6. Write a Python program to remove duplicates from a list"
   ]
  },
  {
   "cell_type": "code",
   "execution_count": 10,
   "id": "31ea4236",
   "metadata": {},
   "outputs": [
    {
     "name": "stdout",
     "output_type": "stream",
     "text": [
      "Enter the number of elements present in the list: 5\n",
      "Element No 1: 2\n",
      "Element No 2: 2\n",
      "Element No 3: 3\n",
      "Element No 4: 3\n",
      "Element No 5: 4\n",
      "List without Duplicates:  [2, 3, 4]\n"
     ]
    }
   ],
   "source": [
    "# All Variables Required\n",
    "no_items = int(input(\"Enter the number of elements present in the list: \"))\n",
    "user_list = []\n",
    "final_list = []\n",
    "\n",
    "# For Appending in the Empty List\n",
    "for i in range(no_items):\n",
    "    item = int(input(f\"Element No {i+1}: \"))\n",
    "    user_list.append(item)\n",
    "\n",
    "# For Making a Final List\n",
    "for i in user_list:\n",
    "    if i not in final_list:\n",
    "        final_list.append(i)\n",
    "        \n",
    "# OUTPUTTTTT\n",
    "print(\"List without Duplicates: \", final_list)"
   ]
  },
  {
   "cell_type": "markdown",
   "id": "763e4299",
   "metadata": {},
   "source": [
    "### 7. Write a Python program to check a list is empty or not."
   ]
  },
  {
   "cell_type": "code",
   "execution_count": 3,
   "id": "36a56252",
   "metadata": {},
   "outputs": [
    {
     "name": "stdout",
     "output_type": "stream",
     "text": [
      "List is Empty\n"
     ]
    }
   ],
   "source": [
    "# Driver List that is empty\n",
    "user_list = []\n",
    "\n",
    "# Checking the Length of Given List\n",
    "if len(user_list) == 0:\n",
    "    print(\"List is Empty\")\n",
    "else:\n",
    "    print(\"List is not empty\")"
   ]
  },
  {
   "cell_type": "markdown",
   "id": "c73713c0",
   "metadata": {},
   "source": [
    "### 8. Write a Python function that takes two lists and returns true if they have at least one common member."
   ]
  },
  {
   "cell_type": "code",
   "execution_count": 8,
   "id": "37b65c27",
   "metadata": {},
   "outputs": [
    {
     "name": "stdout",
     "output_type": "stream",
     "text": [
      "Enter the elements of list No. 1 seperated by Space: Harshal Kakaiya 06\n",
      "Enter the elements of list No. 2 seperated by Space: Harshal LMAO\n",
      "The Output is: True\n"
     ]
    }
   ],
   "source": [
    "# Defining a Function for Checking Common Members\n",
    "def common_member(list1, list2):\n",
    "    for i in list1:\n",
    "        if i in list2:\n",
    "            return True\n",
    "        else:\n",
    "            return False\n",
    "\n",
    "# Taking List from the User\n",
    "list1 = input(\"Enter the elements of list No. 1 seperated by Space: \").split()\n",
    "list2 = input(\"Enter the elements of list No. 2 seperated by Space: \").split()\n",
    "\n",
    "# OUTPUTTTTT\n",
    "print(\"The Output is:\", common_member(list1,list2))"
   ]
  },
  {
   "cell_type": "markdown",
   "id": "003819f8",
   "metadata": {},
   "source": [
    "### 9. Write a Python program to generate and print a list of first and last 5 elements where the values are square of numbers between 1 and 30."
   ]
  },
  {
   "cell_type": "code",
   "execution_count": 9,
   "id": "37e65b4e",
   "metadata": {},
   "outputs": [
    {
     "name": "stdout",
     "output_type": "stream",
     "text": [
      "The Final List: [1, 4, 9, 16, 25, 676, 729, 784, 841, 900]\n"
     ]
    }
   ],
   "source": [
    "# Using List Comphrension for generating a List of Squares 1 to 30\n",
    "square_list = [i**2 for i in range(1,31)]\n",
    "\n",
    "# Final List\n",
    "desired_final = square_list[0:5] + square_list[-5:]\n",
    "\n",
    "# OUTPUTTTT\n",
    "print(f\"The Final List: {desired_final}\")\n"
   ]
  },
  {
   "cell_type": "markdown",
   "id": "d205a8a5",
   "metadata": {},
   "source": [
    "### 10. Write a Python function that takes a list and returns a new list with unique elements of the first list."
   ]
  },
  {
   "cell_type": "code",
   "execution_count": 1,
   "id": "1811a9e4",
   "metadata": {},
   "outputs": [
    {
     "name": "stdout",
     "output_type": "stream",
     "text": [
      "Enter the elements of list seperated by Space: H H H H Kakaiya\n",
      "The Final List: ['H', 'Kakaiya']\n"
     ]
    }
   ],
   "source": [
    "# Defining the Function to return a new list\n",
    "def uniqueList(list1):\n",
    "    final_list = list(set(list1))\n",
    "    return final_list\n",
    "\n",
    "# Taking List from User\n",
    "user_list = input(\"Enter the elements of list seperated by Space: \").split()\n",
    "\n",
    "# OUTPUTTT\n",
    "print(\"The Final List:\",uniqueList(user_list))"
   ]
  },
  {
   "cell_type": "markdown",
   "id": "c312aa79",
   "metadata": {},
   "source": [
    "### 11. Write a Python program to convert a list of characters into a string."
   ]
  },
  {
   "cell_type": "code",
   "execution_count": 6,
   "id": "861ef546",
   "metadata": {},
   "outputs": [
    {
     "name": "stdout",
     "output_type": "stream",
     "text": [
      "How many characters in List: 7\n",
      "Type one by one Characters--->\n",
      "H\n",
      "a\n",
      "r\n",
      "s\n",
      "h\n",
      "a\n",
      "l\n",
      "Character List Given in Input: ['H', 'a', 'r', 's', 'h', 'a', 'l']\n",
      "The Final String made from the List: Harshal\n"
     ]
    }
   ],
   "source": [
    "# Empty List\n",
    "char_list = []\n",
    "\n",
    "# Length of list\n",
    "no_chars = int(input(\"How many characters in List: \"))\n",
    "\n",
    "# Taking one element at one time and appending\n",
    "print(\"Type one by one Characters--->\")\n",
    "for i in range(no_chars):\n",
    "    char_list.append(input())\n",
    "\n",
    "# OUTPUTTT\n",
    "print(\"Character List Given in Input:\",char_list)\n",
    "print(\"The Final String made from the List:\",\"\".join(char_list))"
   ]
  },
  {
   "cell_type": "markdown",
   "id": "bb1bb8d7",
   "metadata": {},
   "source": [
    "### 12. Write a Python program to select an item randomly from a list."
   ]
  },
  {
   "cell_type": "code",
   "execution_count": 8,
   "id": "e7e37c1c",
   "metadata": {},
   "outputs": [
    {
     "name": "stdout",
     "output_type": "stream",
     "text": [
      "Enter the elements of list seperated by Space: Harshal Kakaiya is a Good Coder LOLLL\n",
      "Random Item: Coder\n"
     ]
    }
   ],
   "source": [
    "# Importing Module Choice from Random Library\n",
    "from random import choice\n",
    "\n",
    "# Taking a List from user\n",
    "user_list = input(\"Enter the elements of list seperated by Space: \").split()\n",
    "\n",
    "# OUPUTTT\n",
    "print(\"Random Item:\",choice(user_list))"
   ]
  },
  {
   "cell_type": "markdown",
   "id": "d5ffcc31",
   "metadata": {},
   "source": [
    "### 13. Write a Python program to find the second smallest number in a list."
   ]
  },
  {
   "cell_type": "code",
   "execution_count": 14,
   "id": "037e7d02",
   "metadata": {},
   "outputs": [
    {
     "name": "stdout",
     "output_type": "stream",
     "text": [
      "How many Elements in List: 5\n",
      "Type one by one Element (Integers Only) --->\n",
      "34\n",
      "54554\n",
      "56\n",
      "1\n",
      "3434535\n",
      "Second Smallest Number 34\n"
     ]
    }
   ],
   "source": [
    "int_list = []\n",
    "\n",
    "# Length of list\n",
    "no_int = int(input(\"How many Elements in List: \"))\n",
    "\n",
    "# Taking one element at one time and appending\n",
    "print(\"Type one by one Element (Integers Only) --->\")\n",
    "for i in range(no_int):\n",
    "    int_list.append(int(input()))\n",
    "    \n",
    "# Sorting the List\n",
    "sorted_list = sorted(int_list)\n",
    "\n",
    "# OUTPUTTTT\n",
    "print(\"Second Smallest Number: \",sorted_list[1])"
   ]
  },
  {
   "cell_type": "markdown",
   "id": "7da2c05b",
   "metadata": {},
   "source": [
    "### 14. Write a Python program to check whether a list contains a sub list"
   ]
  },
  {
   "cell_type": "code",
   "execution_count": 1,
   "id": "b278ada5",
   "metadata": {},
   "outputs": [],
   "source": [
    "#### DOUBBBBBTTTTT"
   ]
  },
  {
   "cell_type": "markdown",
   "id": "563fce8e",
   "metadata": {},
   "source": [
    "### 15. Write a Python program to split a list into different variables."
   ]
  },
  {
   "cell_type": "code",
   "execution_count": 2,
   "id": "6fdf59a5",
   "metadata": {},
   "outputs": [
    {
     "name": "stdout",
     "output_type": "stream",
     "text": [
      "('Harshal', 'Kakaiya', '21')\n",
      "('Jenil', 'Saliya', '20')\n",
      "('Paras', 'Godhani', '21')\n"
     ]
    }
   ],
   "source": [
    "# Driver List for Checking the Program\n",
    "person_names = [(\"Harshal\",\"Kakaiya\",\"21\"),(\"Jenil\",\"Saliya\",\"20\"),(\"Paras\",\"Godhani\",\"21\")]\n",
    "\n",
    "# Assigning to different Variables\n",
    "person1, person2, person3 = person_names\n",
    "\n",
    "# Printing all varaibles one by one\n",
    "print(person1)\n",
    "print(person2)\n",
    "print(person3)"
   ]
  },
  {
   "cell_type": "markdown",
   "id": "8940a353",
   "metadata": {},
   "source": [
    "### 16. What is tuple? Difference between list and tuple."
   ]
  },
  {
   "cell_type": "markdown",
   "id": "a66e11f0",
   "metadata": {},
   "source": [
    "- Tuples are used to store multiple items in a single variable. \n",
    "- Tuple is one of 4 built-in data types in Python used to store collections of data, the other 3 are List, Set, and Dictionary, all with different qualities and usage. \n",
    "- A tuple is a collection which is ordered and unchangeable.\n",
    "\n",
    "**DIFFERENCE**:\n",
    "- The primary difference between tuples and lists is that tuples are immutable as opposed to lists which are mutable. Therefore, it is possible to change a list but not a tuple.\n",
    "- The contents of a tuple cannot change once they have been created in Python due to the immutability of tuples.\n",
    "- There is no way to keep changing tuples. Error message if you attempt to change one of the items.\n",
    "\n"
   ]
  },
  {
   "cell_type": "markdown",
   "id": "56fa84d0",
   "metadata": {},
   "source": [
    "### 17. Write a Python program to create a tuple with different data types."
   ]
  },
  {
   "cell_type": "code",
   "execution_count": 1,
   "id": "e216c90d",
   "metadata": {},
   "outputs": [
    {
     "name": "stdout",
     "output_type": "stream",
     "text": [
      "('Harshal', True, 3.2, 4445)\n"
     ]
    }
   ],
   "source": [
    "# Driver Tuple for the program\n",
    "tple1 = (\"Harshal\",True,3.2,4445)\n",
    "\n",
    "# OUTPUTTT \n",
    "print(tple1)"
   ]
  },
  {
   "cell_type": "markdown",
   "id": "35a2c667",
   "metadata": {},
   "source": [
    "### 18. Write a Python program to create a tuple with numbers."
   ]
  },
  {
   "cell_type": "code",
   "execution_count": 5,
   "id": "a59d758d",
   "metadata": {},
   "outputs": [
    {
     "name": "stdout",
     "output_type": "stream",
     "text": [
      "Enter space-separated integers: 5 3 4 2 1\n",
      "(5, 3, 4, 2, 1)\n"
     ]
    }
   ],
   "source": [
    "# Taking Input from the User\n",
    "user_input = input('Enter space-separated integers: ')\n",
    "\n",
    "# Converting to Tuple\n",
    "tple2 = tuple(int(item) for item in user_input.split())\n",
    "\n",
    "# OUTPUTTT \n",
    "print(tple2)"
   ]
  },
  {
   "cell_type": "markdown",
   "id": "992a1b6f",
   "metadata": {},
   "source": [
    "### 19. Write a Python program to convert a tuple to a string."
   ]
  },
  {
   "cell_type": "code",
   "execution_count": 4,
   "id": "3e6ee6c6",
   "metadata": {},
   "outputs": [
    {
     "name": "stdout",
     "output_type": "stream",
     "text": [
      "Enter the elements of Tuple seperated by Space: Harshal Kakaiya LOLLLL 36\n",
      "Final String: HarshalKakaiyaLOLLLL36\n"
     ]
    }
   ],
   "source": [
    "# Taking a Tuple from user\n",
    "user_tuple = tuple(input(\"Enter the elements of Tuple seperated by Space: \").split())\n",
    "\n",
    "# converting to list and then joining them\n",
    "final_string = \"\".join(list(user_tuple))\n",
    "\n",
    "print(\"Final String:\",final_string)"
   ]
  },
  {
   "cell_type": "markdown",
   "id": "2e7adfda",
   "metadata": {},
   "source": [
    "### 20. Write a Python program to check whether an element exists within a tuple."
   ]
  },
  {
   "cell_type": "code",
   "execution_count": 5,
   "id": "f104ea86",
   "metadata": {},
   "outputs": [
    {
     "name": "stdout",
     "output_type": "stream",
     "text": [
      "Enter the elements of Tuple seperated by Space: Harshal Kaakiya LOLL 06 THis is a Tuple\n",
      "For which element u want to check: This\n",
      "Given Element is not in the Tuple\n"
     ]
    }
   ],
   "source": [
    "# Taking a Tuple from user\n",
    "user_tuple = tuple(input(\"Enter the elements of Tuple seperated by Space: \").split())\n",
    "\n",
    "# Taking input from user\n",
    "user_element = input(\"For which element u want to check: \")\n",
    "\n",
    "# Checking if element exists\n",
    "if user_element in user_tuple:\n",
    "    print(\"Given Element is in the Tuple\")\n",
    "else:\n",
    "    print(\"Given Element is not in the Tuple\")\n",
    "    "
   ]
  },
  {
   "cell_type": "markdown",
   "id": "96a907ee",
   "metadata": {},
   "source": [
    "### 21. Write a Python program to find the length of a tuple."
   ]
  },
  {
   "cell_type": "code",
   "execution_count": 4,
   "id": "bf279eda",
   "metadata": {},
   "outputs": [
    {
     "name": "stdout",
     "output_type": "stream",
     "text": [
      "Enter the elements of Tuple seperated by Space: Harshal Kakaiya XD\n",
      "Length of the Tuple: 3\n"
     ]
    }
   ],
   "source": [
    "# Taking a Tuple from user\n",
    "user_tuple = tuple(input(\"Enter the elements of Tuple seperated by Space: \").split())\n",
    "\n",
    "#OUTPUTTT\n",
    "print(f\"Length of the Tuple: {len(user_tuple)}\")"
   ]
  },
  {
   "cell_type": "markdown",
   "id": "a529ec93",
   "metadata": {},
   "source": [
    "### 22. Write a Python program to convert a list to a tuple."
   ]
  },
  {
   "cell_type": "code",
   "execution_count": 6,
   "id": "da7aac21",
   "metadata": {},
   "outputs": [
    {
     "name": "stdout",
     "output_type": "stream",
     "text": [
      "Enter the elements of Tuple seperated by Space: Python Language\n",
      "Final List: ['Python', 'Language']\n"
     ]
    }
   ],
   "source": [
    "# Taking a Tuple from user\n",
    "user_tuple = tuple(input(\"Enter the elements of Tuple seperated by Space: \").split())\n",
    "\n",
    "# Conmverting in to the list\n",
    "user_list = list(user_tuple)\n",
    "\n",
    "#OUTPUTTT\n",
    "print(\"Final List:\",user_list)\n"
   ]
  },
  {
   "cell_type": "markdown",
   "id": "fadadbda",
   "metadata": {},
   "source": [
    "### 23. Write a Python program to reverse a tuple"
   ]
  },
  {
   "cell_type": "code",
   "execution_count": 19,
   "id": "e9b443e7",
   "metadata": {},
   "outputs": [
    {
     "name": "stdout",
     "output_type": "stream",
     "text": [
      "Enter the elements of Tuple seperated by Space: Python is the easiest Programming language\n",
      "Reversed Tuple: ('language', 'Programming', 'easiest', 'the', 'is', 'Python')\n"
     ]
    }
   ],
   "source": [
    "# Taking a Tuple from user\n",
    "user_tuple = tuple(input(\"Enter the elements of Tuple seperated by Space: \").split())\n",
    "\n",
    "# Converting into list and reversing it\n",
    "user_list = list(user_tuple)\n",
    "reversed_list = user_list[::-1]\n",
    "\n",
    "# Converting again in tuple\n",
    "reversed_tuple = tuple(reversed_list)\n",
    "\n",
    "# OUTPUTTT\n",
    "print(\"Reversed Tuple:\",reversed_tuple)"
   ]
  },
  {
   "cell_type": "markdown",
   "id": "90c06a33",
   "metadata": {},
   "source": [
    "### 24. Write a Python program to replace last value of tuples in a list."
   ]
  },
  {
   "cell_type": "code",
   "execution_count": 20,
   "id": "9cc45568",
   "metadata": {},
   "outputs": [
    {
     "name": "stdout",
     "output_type": "stream",
     "text": [
      "[(10, 20, 100), (40, 50, 100), (70, 80, 100)]\n"
     ]
    }
   ],
   "source": [
    "# Taking a List of Tuples for example\n",
    "user_list = [(10, 20, 40), (40, 50, 60), (70, 80, 90)]\n",
    "\n",
    "# Replacing last values of tuples with 100 (OUTPUTTTT)\n",
    "print([user_tple[:-1] + (100,) for user_tple in user_list])"
   ]
  },
  {
   "cell_type": "markdown",
   "id": "107da012",
   "metadata": {},
   "source": [
    "### 25. Write a Python program to find the repeated items of a tuple."
   ]
  },
  {
   "cell_type": "code",
   "execution_count": 25,
   "id": "947d184e",
   "metadata": {},
   "outputs": [
    {
     "name": "stdout",
     "output_type": "stream",
     "text": [
      "Enter the elements of Tuple seperated by Space: Harshal Harshal Kakaiya XD XD 6 6\n",
      "Repeated Items are: Harshal, XD, 6\n"
     ]
    }
   ],
   "source": [
    "# Taking a Tuple from user\n",
    "user_tuple = tuple(input(\"Enter the elements of Tuple seperated by Space: \").split())\n",
    "\n",
    "# Making a Empty List to Store the Repeated Items\n",
    "repeated_items = []\n",
    "\n",
    "# For Finding repeated items in tuple\n",
    "for item in user_tuple:\n",
    "    if user_tuple.count(item) > 1 and item not in repeated_items:\n",
    "        repeated_items.append(item)\n",
    "\n",
    "# OUTPUTTTTT\n",
    "print(\"Repeated Items are:\",\", \".join(repeated_items))"
   ]
  },
  {
   "cell_type": "markdown",
   "id": "ef355da5",
   "metadata": {},
   "source": [
    "### 26. Write a Python program to remove an empty tuple(s) from a list of tuples."
   ]
  },
  {
   "cell_type": "code",
   "execution_count": 27,
   "id": "1ff8563f",
   "metadata": {},
   "outputs": [
    {
     "name": "stdout",
     "output_type": "stream",
     "text": [
      "[(10, 20, 40), (70, 80, 90), ('Harshal', 'Kakaiya')]\n"
     ]
    }
   ],
   "source": [
    "# Taking a List of Tuples for example\n",
    "user_list = [(10, 20, 40), (), (70, 80, 90),(),(\"Harshal\",\"Kakaiya\")]\n",
    "\n",
    "for item in user_list:\n",
    "    if len(item) == 0:\n",
    "        user_list.remove(item)\n",
    "\n",
    "#OUTPUTTTT\n",
    "print(user_list)"
   ]
  },
  {
   "cell_type": "markdown",
   "id": "665cbc7a",
   "metadata": {},
   "source": [
    "### 27. Write a Python program to unzip a list of tuples into individual lists."
   ]
  },
  {
   "cell_type": "markdown",
   "id": "d765bd9d",
   "metadata": {},
   "source": [
    "DOUBTTTTTTT"
   ]
  },
  {
   "cell_type": "markdown",
   "id": "7f4d85a0",
   "metadata": {},
   "source": [
    "### 28. Write a Python program to convert a list of tuples into a dictionary.\n"
   ]
  },
  {
   "cell_type": "code",
   "execution_count": 29,
   "id": "08738b72",
   "metadata": {},
   "outputs": [
    {
     "name": "stdout",
     "output_type": "stream",
     "text": [
      "Final Dictionary {'Harshal': 6, 'Kakaiya': 612, 'JOD': 'Kakaiya'}\n"
     ]
    }
   ],
   "source": [
    "# Taking a List of Tuples for example\n",
    "user_list = [(\"Harshal\",6), (\"Kakaiya\",612),(\"JOD\",\"Kakaiya\")]\n",
    "\n",
    "# OUTPUTTTT\n",
    "print(\"Final Dictionary\",dict(user_list))"
   ]
  },
  {
   "cell_type": "markdown",
   "id": "f7ae8c3a",
   "metadata": {},
   "source": [
    "### 29. How will you create a dictionary using tuples in python?"
   ]
  },
  {
   "cell_type": "markdown",
   "id": "8ea8074f",
   "metadata": {},
   "source": [
    "**Method 1: Using dict() function**\n",
    "- In Python, use the dict() function to convert a tuple to a dictionary. \n",
    "- A dictionary object can be created with the dict() function. \n",
    "- The dictionary is returned by the dict() method, which takes a tuple of tuples as an argument. A key-value pair is contained in each tuple.\n",
    "\n",
    "**Method 2: Using Dictionary Comprehension and enumerate () function**:\n",
    "- Create two variables to store the first and second input tuples having the same length.\n",
    "- Use the if conditional statement, to check whether the length of both the tuples is the equal length or not.\n",
    "- Convert both the tuples into a dictionary using enumerate() function in a dictionary comprehension, if the condition is true.\n",
    "- Printing the result dictionary from the given two tuples after conversion.\n",
    "\n",
    "**Method 3: Using zip() and dict() functions:**\n",
    "- Create two variables to store the first and second input tuples having the same length.\n",
    "- Use the if conditional statement, to check whether the length of both the tuples is the equal length or not.\n",
    "- Convert both the tuples into a dictionary using zip() and dict() functions, if the condition is true.\n",
    "- zip() method − The zip() method takes iterables (which might be zero or more), combines them into a tuple, and returns it."
   ]
  },
  {
   "cell_type": "markdown",
   "id": "e5d14ee4",
   "metadata": {},
   "source": [
    "### 30. Write a Python script to sort (ascending and descending) a dictionary by value."
   ]
  },
  {
   "cell_type": "markdown",
   "id": "e8ccdf80",
   "metadata": {},
   "source": [
    "DOUBTTTT"
   ]
  },
  {
   "cell_type": "markdown",
   "id": "6ed857b4",
   "metadata": {},
   "source": [
    "### 31. Write a Python script to concatenate following dictionaries to create a new one."
   ]
  },
  {
   "cell_type": "code",
   "execution_count": 2,
   "id": "1918bc84",
   "metadata": {},
   "outputs": [
    {
     "name": "stdout",
     "output_type": "stream",
     "text": [
      "Final Dictionary After Concatenation: {1: 2, 2: 3, 3: 4, 4: 5, 5: 6, 7: 8, 8: 9}\n"
     ]
    }
   ],
   "source": [
    "# Taking some Few Dictionaries to concatenate\n",
    "dict1 = {1:2,2:3,3:4}\n",
    "dict2 = {4:5,5:6}\n",
    "dict3 = {7:8,8:9}\n",
    "\n",
    "# Empty Dictionary\n",
    "final_dict = {}\n",
    "\n",
    "# For Updating all Dictionaries\n",
    "for idict in (dict1,dict2,dict3):\n",
    "    final_dict.update(idict)\n",
    "\n",
    "# OUTPUTTT\n",
    "print(f\"Final Dictionary After Concatenation:\",final_dict)"
   ]
  },
  {
   "cell_type": "markdown",
   "id": "e1a437ef",
   "metadata": {},
   "source": [
    "### 32. Write a Python script to check if a given key already exists in a dictionary."
   ]
  },
  {
   "cell_type": "code",
   "execution_count": 4,
   "id": "1834c8f5",
   "metadata": {},
   "outputs": [
    {
     "name": "stdout",
     "output_type": "stream",
     "text": [
      "What key you want to check: Harshal\n",
      "Key is Present in Dictionary\n"
     ]
    }
   ],
   "source": [
    "# Taking a Example Dict\n",
    "user_dict = {\"Harshal\":21,\"Jenil\":20,\"TomHardy\":40,\"Python\":11}\n",
    "\n",
    "# For what Key they want to check\n",
    "user_key = input(\"What key you want to check: \")\n",
    "\n",
    "# Checking for presence of key\n",
    "if user_key in user_dict.keys():\n",
    "    print(\"Key is Present in Dictionary\")\n",
    "else:\n",
    "    print(\"Key is not Present in Dictionary\")"
   ]
  },
  {
   "cell_type": "markdown",
   "id": "c3f431bc",
   "metadata": {},
   "source": [
    "### 33. How Do You Traverse Through A Dictionary Object In Python?"
   ]
  },
  {
   "cell_type": "markdown",
   "id": "0e43b605",
   "metadata": {},
   "source": [
    "**There are multiple ways to iterate over a dictionary in Python:**\n",
    "\n",
    "- Access key using the build .keys() \n",
    "- Access key without using a key() \n",
    "- Iterate through all values using .values()\n",
    "- Iterate through all key, and value pairs using items()\n",
    "- Access both key and value without using items()\n",
    "- Print items in Key-Value in pair "
   ]
  },
  {
   "cell_type": "markdown",
   "id": "af132b65",
   "metadata": {},
   "source": [
    "### 34. How Do You Check The Presence Of A Key In A Dictionary?"
   ]
  },
  {
   "cell_type": "markdown",
   "id": "9838f792",
   "metadata": {},
   "source": [
    "**There can be different ways for checking if the key already exists:**\n",
    "\n",
    "- Using the Inbuilt method keys() \n",
    "- Using if and in\n",
    "- Using has_key() method\n",
    "- Using get() method"
   ]
  },
  {
   "cell_type": "markdown",
   "id": "69624e3e",
   "metadata": {},
   "source": [
    "### 35. Write a Python script to print a dictionary where the keys are numbers between 1 and 15."
   ]
  },
  {
   "cell_type": "code",
   "execution_count": 7,
   "id": "54e5a9de",
   "metadata": {},
   "outputs": [
    {
     "name": "stdout",
     "output_type": "stream",
     "text": [
      "Final Dictionary is as below:\n",
      "{1: 2, 2: 4, 3: 6, 4: 8, 5: 10, 6: 12, 7: 14, 8: 16, 9: 18, 10: 20, 11: 22, 12: 24, 13: 26, 14: 28, 15: 30}\n"
     ]
    }
   ],
   "source": [
    "# Takint a Empty Dictionary\n",
    "user_dict = dict()\n",
    "\n",
    "# Updating the Dictionary \n",
    "for no in range(1,16):\n",
    "    user_dict[no] = no*2\n",
    "\n",
    "# OUTPUTTTT\n",
    "print(\"Final Dictionary is as below:\")\n",
    "print(user_dict)"
   ]
  },
  {
   "cell_type": "markdown",
   "id": "e9666847",
   "metadata": {},
   "source": [
    "### 36. Write a Python program to check multiple keys exists in a dictionary"
   ]
  },
  {
   "cell_type": "markdown",
   "id": "fa150a64",
   "metadata": {},
   "source": [
    "DOUBTTTT"
   ]
  },
  {
   "cell_type": "markdown",
   "id": "4a848350",
   "metadata": {},
   "source": [
    "### 37. Write a Python script to merge two Python dictionaries"
   ]
  },
  {
   "cell_type": "code",
   "execution_count": 19,
   "id": "9b7a0f40",
   "metadata": {},
   "outputs": [
    {
     "name": "stdout",
     "output_type": "stream",
     "text": [
      "Merged Dictionary: {1: 2, 2: 3, 3: 4, 4: 5, 5: 6}\n"
     ]
    }
   ],
   "source": [
    "# Taking Two Dictionaries \n",
    "dict1 = {1:2,2:3,3:4}\n",
    "dict2 = {4:5,5:6}\n",
    "\n",
    "# Updating the Dict 1 with Dict 2\n",
    "new_dict = dict1.copy()\n",
    "new_dict.update(dict2)\n",
    "\n",
    "# OUTPUTTTTT\n",
    "print(\"Merged Dictionary:\",new_dict)"
   ]
  },
  {
   "cell_type": "markdown",
   "id": "5b9f19b7",
   "metadata": {},
   "source": [
    "### 38. Write a Python program to map two lists into a dictionary"
   ]
  },
  {
   "cell_type": "code",
   "execution_count": 22,
   "id": "f4f6ad56",
   "metadata": {},
   "outputs": [
    {
     "name": "stdout",
     "output_type": "stream",
     "text": [
      "Final Dictionary after Mapping: {'Harshal': 23, 'Kakaiya': 33, 'Python': 43}\n"
     ]
    }
   ],
   "source": [
    "# Taking Two Lists for Mapping\n",
    "list1 = [\"Harshal\",\"Kakaiya\",\"Python\"]\n",
    "list2 = [23,33,43]\n",
    "\n",
    "# Taking a empty dictionary\n",
    "final_dict = {}\n",
    "\n",
    "# Mapping\n",
    "for i in range(len(list1)):\n",
    "    final_dict[list1[i]] = list2[i]\n",
    "    \n",
    "# OUTPUTTTT\n",
    "print(\"Final Dictionary after Mapping:\",final_dict)"
   ]
  },
  {
   "cell_type": "markdown",
   "id": "4823f7a4",
   "metadata": {},
   "source": [
    "### 39. Write a Python program to combine two dictionary adding values for common keys."
   ]
  },
  {
   "cell_type": "code",
   "execution_count": 33,
   "id": "ac02b620",
   "metadata": {},
   "outputs": [
    {
     "name": "stdout",
     "output_type": "stream",
     "text": [
      "Final Dictionary:  {'a': 400, 'b': 400, 'd': 400, 'c': 300}\n"
     ]
    }
   ],
   "source": [
    "# intializing two dictionaries\n",
    "dict1 = {\"a\": 100, \"b\": 200, \"c\":300} \n",
    "dict2 = {\"a\": 300, \"b\": 200, \"d\":400}\n",
    "\n",
    "# adding the values with common key\n",
    "for key in dict1:\n",
    "    if key in dict2:\n",
    "        dict2[key] = dict1[key] + dict2[key]\n",
    "    else:\n",
    "        dict2[key] = dict1[key]\n",
    "\n",
    "# OUTPUTTTT\n",
    "print(\"Final Dictionary: \",dict2)"
   ]
  },
  {
   "cell_type": "markdown",
   "id": "03d6b3bf",
   "metadata": {},
   "source": [
    "### 40. Write a Python program to print all unique values in a dictionary."
   ]
  },
  {
   "cell_type": "code",
   "execution_count": 35,
   "id": "df5650a1",
   "metadata": {},
   "outputs": [
    {
     "name": "stdout",
     "output_type": "stream",
     "text": [
      "Unique Values: {100, 200, 300, 21, 'Kakaiya'}\n"
     ]
    }
   ],
   "source": [
    "# Intializing the Dictionary\n",
    "user_dict = {\"a\": 100, \"b\": 200, \"c\":300, \"d\":300,\"Harshal\":\"Kakaiya\",\"06\":100,\"Jenil\":21} \n",
    "\n",
    "# OUTPUTTT\n",
    "print(\"Unique Values:\",set(user_dict.values()))"
   ]
  },
  {
   "cell_type": "markdown",
   "id": "8a772561",
   "metadata": {},
   "source": [
    "### 41. Why Do You Use the Zip () Method in Python?"
   ]
  },
  {
   "cell_type": "markdown",
   "id": "0eef2bf1",
   "metadata": {},
   "source": [
    "- The zip() function returns a zip object, which is an iterator of tuples where the first item in each passed iterator is paired together, and then the second item in each passed iterator are paired together etc.\n",
    "- If the passed iterators have different lengths, the iterator with the least items decides the length of the new iterator.\n",
    "\n",
    "**SYNTAX:**\n",
    "\n",
    "`\n",
    "zip(iterator1, iterator2, iterator3 ...)\n",
    "`"
   ]
  },
  {
   "cell_type": "markdown",
   "id": "196b810e",
   "metadata": {},
   "source": [
    "### 42. Write a Python program to create and display all combinations of letters, selecting each letter from a different key in a dictionary."
   ]
  },
  {
   "cell_type": "markdown",
   "id": "8ccb20c4",
   "metadata": {},
   "source": [
    "DOUBTTTTT"
   ]
  },
  {
   "cell_type": "markdown",
   "id": "c95560a5",
   "metadata": {},
   "source": [
    "### 43. Write a Python program to find the highest 3 values in a dictionary"
   ]
  },
  {
   "cell_type": "code",
   "execution_count": 78,
   "id": "5ed9bade",
   "metadata": {
    "scrolled": true
   },
   "outputs": [
    {
     "name": "stdout",
     "output_type": "stream",
     "text": [
      "Highest 3 Values:  [1000, 300, 200]\n"
     ]
    }
   ],
   "source": [
    "# Initializing the Dictionary\n",
    "user_dict = {\"a\": 100, \"b\": 200, \"c\":300,\"d\":10,\"e\":50,\"f\":69,\"g\":1000}\n",
    "\n",
    "# Getting the Values\n",
    "values_list = list(user_dict.values())\n",
    "\n",
    "# Sorting in the Descending Order\n",
    "descend_values = sorted(values_list,reverse=True)\n",
    "\n",
    "# OUTPUTTT\n",
    "print(\"Highest 3 Values: \",descend_values[0:3])"
   ]
  },
  {
   "cell_type": "markdown",
   "id": "157d4b0c",
   "metadata": {},
   "source": [
    "### 44. Write a Python program to combine values in python list of dictionaries."
   ]
  },
  {
   "cell_type": "markdown",
   "id": "33878c13",
   "metadata": {},
   "source": [
    "DOUBTTTT"
   ]
  },
  {
   "cell_type": "markdown",
   "id": "fff6fbd5",
   "metadata": {},
   "source": [
    "### 45. Write a Python program to create a dictionary from a string. Note: Track the count of the letters from the string."
   ]
  },
  {
   "cell_type": "code",
   "execution_count": 79,
   "id": "bdd0eefa",
   "metadata": {},
   "outputs": [
    {
     "name": "stdout",
     "output_type": "stream",
     "text": [
      "Enter the String: w3resource\n",
      "Character Dictionary:  {'w': 1, '3': 1, 'r': 2, 'e': 2, 's': 1, 'o': 1, 'u': 1, 'c': 1}\n"
     ]
    }
   ],
   "source": [
    "# Taking the Input from user\n",
    "user_str = input(\"Enter the String: \")\n",
    "char_dict = {}\n",
    "\n",
    "# Using For Loop and If-Else Statement\n",
    "for i in user_str:\n",
    "    if i in char_dict:\n",
    "        char_dict[i] += 1\n",
    "    else:\n",
    "        char_dict[i] = 1\n",
    "        \n",
    "# OUTPUTTTT\n",
    "print(\"Character Dictionary: \", char_dict)"
   ]
  },
  {
   "cell_type": "markdown",
   "id": "ab70f5ca",
   "metadata": {},
   "source": [
    "### 46. Write a Python function to calculate the factorial of a number (a nonnegative integer)."
   ]
  },
  {
   "cell_type": "code",
   "execution_count": 80,
   "id": "9fc89401",
   "metadata": {},
   "outputs": [
    {
     "name": "stdout",
     "output_type": "stream",
     "text": [
      "Enter the number you want to check for: 5\n",
      "The Factorial of 5 is: 120\n"
     ]
    }
   ],
   "source": [
    "# Defining a Function for finding Factorial of a Number\n",
    "def factFinder(num):\n",
    "    fact = 1\n",
    "    for i in range(num,1,-1):\n",
    "        fact *= i \n",
    "    return fact\n",
    "\n",
    "# Taking the Input from the user\n",
    "num = int(input(\"Enter the number you want to check for: \"))\n",
    "\n",
    "# Calling the Function\n",
    "factorial_num = factFinder(num)\n",
    "\n",
    "# OUTTPUTTT\n",
    "print(f\"The Factorial of {num} is: {factorial_num}\")"
   ]
  },
  {
   "cell_type": "markdown",
   "id": "6316c955",
   "metadata": {},
   "source": [
    "### 47. Write a Python function to check whether a number is in a given range"
   ]
  },
  {
   "cell_type": "code",
   "execution_count": 4,
   "id": "d90250e8",
   "metadata": {},
   "outputs": [
    {
     "name": "stdout",
     "output_type": "stream",
     "text": [
      "Enter the Lowest Number of Range: 5\n",
      "Enter the Highest Number of Range: 20\n",
      "Enter the Number for  Which you want to Check: 10\n",
      "Given number 10 is in Given Range 5-20\n"
     ]
    }
   ],
   "source": [
    "# Defining the Function\n",
    "def rangeDecider(low_no,high_no,query_no):\n",
    "    if query_no in range(low_no,high_no):\n",
    "        print(f\"Given number {query_no} is in Given Range {low_no}-{high_no}\")\n",
    "    else:\n",
    "        print(f\"Given number {query_no} is not in Given Range {low_no}-{high_no}\")\n",
    "\n",
    "# Taking Input from the User\n",
    "low_no = int(input(\"Enter the Lowest Number of Range: \")) \n",
    "high_no = int(input(\"Enter the Highest Number of Range: \")) \n",
    "query_no = int(input(\"Enter the Number for  Which you want to Check: \"))\n",
    "\n",
    "# Calling the Function\n",
    "rangeDecider(low_no,high_no,query_no)\n",
    "                                \n"
   ]
  },
  {
   "cell_type": "markdown",
   "id": "da17b46b",
   "metadata": {},
   "source": [
    "### 48. Write a Python function to check whether a number is perfect or not."
   ]
  },
  {
   "cell_type": "code",
   "execution_count": 5,
   "id": "b1655e99",
   "metadata": {},
   "outputs": [
    {
     "name": "stdout",
     "output_type": "stream",
     "text": [
      "Enter the Number you want to check for: 28\n",
      "Number is Perfect !!\n"
     ]
    }
   ],
   "source": [
    "# Defining the Function\n",
    "def perfectNumber(num):\n",
    "    sum_temp = 0\n",
    "    \n",
    "    # For Finding the divisors\n",
    "    for i in range(1,num):\n",
    "        if num % i == 0:\n",
    "            sum_temp += i\n",
    "            \n",
    "    # Checking for Sum and Num to be Equal\n",
    "    if sum_temp == num:\n",
    "        print(\"Number is Perfect !!\")\n",
    "    else:\n",
    "        print(\"Number is not Perfect !!\")\n",
    "        \n",
    "# Taking the Input from the user\n",
    "num  = int(input(\"Enter the Number you want to check for: \"))\n",
    "\n",
    "# Calling them Function\n",
    "perfectNumber(num)"
   ]
  },
  {
   "cell_type": "markdown",
   "id": "855d378c",
   "metadata": {},
   "source": [
    "### 49. Write a Python function that checks whether a passed string is palindrome or not"
   ]
  },
  {
   "cell_type": "code",
   "execution_count": 16,
   "id": "0231ebe7",
   "metadata": {},
   "outputs": [
    {
     "name": "stdout",
     "output_type": "stream",
     "text": [
      "Enter the String you want to check for: 'Was it a car or a cat I saw'\n",
      "Given String is Palindrome\n"
     ]
    }
   ],
   "source": [
    "# Defining the Function\n",
    "def palindromeChecker(u_string):\n",
    "    # Replacing the Spaces and UpperCase Chars\n",
    "    u_string = u_string.replace(\" \",\"\").lower()\n",
    "    \n",
    "    # Checking for Palindrome\n",
    "    if u_string[::-1] == u_string:\n",
    "        print(\"Given String is Palindrome\")\n",
    "    else:\n",
    "        print(\"Given String is Not Palindrome\")\n",
    "        \n",
    "# Taking the Input from the user\n",
    "user_string  = input(\"Enter the String you want to check for: \")\n",
    "        \n",
    "# Calling the Function\n",
    "palindromeChecker(user_string)"
   ]
  },
  {
   "cell_type": "markdown",
   "id": "c06085da",
   "metadata": {},
   "source": [
    "### 50. How Many Basic Types Of Functions Are Available In Python?"
   ]
  },
  {
   "cell_type": "markdown",
   "id": "19ba8f7c",
   "metadata": {},
   "source": [
    "**There are two types of functions in python:**\n",
    "<br><br>**User-Defined Functions**:\n",
    "- These functions are defined by a programmer to perform any specific task or to reduce the complexity of big problems and use that function according to their need.\n",
    "- Example:\n",
    "\n",
    "\n",
    "`def sub(x, y):`\n",
    "<br> &emsp;&ensp; `return x-y`\n",
    "\n",
    "`print(sub(5,2))`\n",
    "\n",
    "- Output:\n",
    "\n",
    "`3`"
   ]
  },
  {
   "cell_type": "markdown",
   "id": "762a3c92",
   "metadata": {},
   "source": [
    "**Built-In Functions:**\n",
    "- Built-in functions are already defined in python. A user has to remember the name and parameters of a particular function.\n",
    "- Since these functions are pre-defined, there is no need to define them again.\n",
    "- Example:\n",
    "\n",
    "`l = [2, 5, 19, 7, 43]`<br>\n",
    "`print(\"Length of string is\",len(l))`<br>\n",
    "`print(\"Maximum number in list is \",max(l))`<br>\n",
    "`print(\"Type is\",type(l))`\n",
    "\n",
    "- Output:\n",
    "\n",
    "`Length of List is 5`<br>\n",
    "`Maximum number in list is  43`<br>\n",
    "`Type is <class 'list'>`<br>\n"
   ]
  },
  {
   "cell_type": "markdown",
   "id": "febe5e8e",
   "metadata": {},
   "source": [
    "### 51. How can you pick a random item from a list or tuple?\n"
   ]
  },
  {
   "cell_type": "markdown",
   "id": "047808f0",
   "metadata": {},
   "source": [
    "**Using `random.choice()` method:**\n",
    "- Use the import keyword to import the random module(used to generate random integers. Because these are pseudo-random numbers, they are not actually random. This module can be used to generate random numbers, and print a random value from a tuple, list or string, etc)\n",
    "- Create a tuple/list and add some dummy data to it.\n",
    "- Generate a random item from the tuple/list using `random.choice()` method (This function returns a random element from the specified sequence i.e tuple/list here) by passing the input tuple/list as an argument to the `choice()` function.\n",
    "- Print the generated random tuple/list item."
   ]
  },
  {
   "cell_type": "markdown",
   "id": "cb80eb1e",
   "metadata": {},
   "source": [
    "### 52. How can you pick a random item from a range?"
   ]
  },
  {
   "cell_type": "markdown",
   "id": "4c527ec5",
   "metadata": {},
   "source": [
    "**Using `random.randrange()` function**:\n",
    "- Use the import keyword, to import the random module.\n",
    "- Use the `random.randrange()` function (Returns a random number within the specified range) to generate a random number within the given range by passing minimum, and maximum numbers as arguments.\n",
    "- Generate a random number from 1 to 50 alternatively(step-2) by passing start, stop and step values as arguments to the `randrange()` function."
   ]
  },
  {
   "cell_type": "markdown",
   "id": "92fcdc9a",
   "metadata": {},
   "source": [
    "### 53. How can you get a random number in python?"
   ]
  },
  {
   "cell_type": "markdown",
   "id": "cb87e20b",
   "metadata": {},
   "source": [
    "**Using `random.randint()` function**:\n",
    "- Give the lower limit and higher limit values of the range and store them in two separate variables.\n",
    "- Use the `random.randint()` function (Returns a random number within the specified range) to generate a random number within the given range by passing minimum, and maximum numbers as arguments.\n",
    "- Print the generated random number."
   ]
  },
  {
   "cell_type": "markdown",
   "id": "2c334710",
   "metadata": {},
   "source": [
    "### 54. How will you set the starting value in generating random numbers?"
   ]
  },
  {
   "cell_type": "markdown",
   "id": "9079841d",
   "metadata": {},
   "source": [
    "**Using `random.seed()` function:**"
   ]
  },
  {
   "cell_type": "markdown",
   "id": "be6cdba6",
   "metadata": {},
   "source": [
    "- The `seed()` method is used to initialize the random number generator.\n",
    "- The random number generator needs a number to start with (a seed value), to be able to generate a random number.\n",
    "- By default the random number generator uses the current system time.\n",
    "- Syntax:\n",
    "\n",
    "`random.seed(a, version)`\n",
    "\n",
    "**PARAMETERS:**\n",
    "\n",
    "**a:** \n",
    "- Optional. \n",
    "- The seed value needed to generate a random number. If it is an integer it is used directly, if not it has to be converted into an integer. \n",
    "- Default value is None, and if None, the generator uses the current system time.\n",
    "\n",
    "**version:**\n",
    "- An integer specifying how to convert the a parameter into a integer.\n",
    "- Default value is 2"
   ]
  },
  {
   "cell_type": "markdown",
   "id": "b99927b2",
   "metadata": {},
   "source": [
    "### 55. How will you randomizes the items of a list in place?"
   ]
  },
  {
   "cell_type": "markdown",
   "id": "f28af6f9",
   "metadata": {},
   "source": [
    "**Using `shuffle()` method:**\n",
    "\n",
    "- The method shuffle() can be used to randomize the items of a list in place. \n",
    "- It should be noted that this function is not accessible directly and therefore we need to import or call this function using random static object.\n",
    "\n",
    "**Syntax:** `shuffle(list_object)`\n",
    "\n",
    "- Here, ‘list_object’ is passed as a parameter which could be a list or tuple. The `shuffle()` returns a reshuffled list of items."
   ]
  },
  {
   "cell_type": "markdown",
   "id": "cfc1a2b5",
   "metadata": {},
   "source": [
    "### 56. Write a Python program to read a random line from a file."
   ]
  },
  {
   "cell_type": "code",
   "execution_count": 33,
   "id": "8bc0a5af",
   "metadata": {},
   "outputs": [
    {
     "name": "stdout",
     "output_type": "stream",
     "text": [
      "This is about Python language:\n"
     ]
    }
   ],
   "source": [
    "# Using the Module Random\n",
    "import random\n",
    "\n",
    "# Opening the File and storing it as pointer f \n",
    "f = open(\"test123.txt\",\"r\")\n",
    "\n",
    "# List of all lines present in file\n",
    "line_list = f.readlines()\n",
    "\n",
    "# Random line from the list\n",
    "print(random.choice(line_list),end=\"\")"
   ]
  },
  {
   "cell_type": "markdown",
   "id": "d1b6c29e",
   "metadata": {},
   "source": [
    "### 57. Write a Python program to convert degree to radian"
   ]
  },
  {
   "cell_type": "code",
   "execution_count": 57,
   "id": "818b11d5",
   "metadata": {},
   "outputs": [
    {
     "name": "stdout",
     "output_type": "stream",
     "text": [
      "Enter the Degree you want for: 5\n",
      "Radian: 0.087266\n"
     ]
    }
   ],
   "source": [
    "# Importing the Math Module\n",
    "import math\n",
    "\n",
    "# Taking the Input from the user\n",
    "user_degree  = int(input(\"Enter the Degree you want for: \"))\n",
    "\n",
    "# Converting into radian\n",
    "user_radian = (user_degree * math.pi) / 180\n",
    "\n",
    "# OUTPUTTTTT\n",
    "print(\"Radian:\",float(str(user_radian)[:8]))"
   ]
  },
  {
   "cell_type": "markdown",
   "id": "55594209",
   "metadata": {},
   "source": [
    "### 58. Write a Python program to calculate the area of a trapezoid"
   ]
  },
  {
   "cell_type": "code",
   "execution_count": 58,
   "id": "e878bbbe",
   "metadata": {},
   "outputs": [
    {
     "name": "stdout",
     "output_type": "stream",
     "text": [
      "Height of trapezoid: 6\n",
      "Base one value: 10\n",
      "Base two value: 5\n",
      "Area is: 45.0\n"
     ]
    }
   ],
   "source": [
    "# Taking some values from user about trapezoid\n",
    "height = float(input(\"Height of trapezoid: \"))\n",
    "base_1 = float(input('Base one value: '))\n",
    "base_2 = float(input('Base two value: '))\n",
    "\n",
    "# Calculating Area of Trapezoid -  1/2(a+b) * h\n",
    "area = ((base_1 + base_2) / 2) * height\n",
    "\n",
    "# OUTPUTTTT\n",
    "print(\"Area is:\", area)"
   ]
  },
  {
   "cell_type": "markdown",
   "id": "cc541caa",
   "metadata": {},
   "source": [
    "### 59. Write a Python program to calculate the area of a parallelogram"
   ]
  },
  {
   "cell_type": "code",
   "execution_count": 59,
   "id": "1ea2d9cb",
   "metadata": {},
   "outputs": [
    {
     "name": "stdout",
     "output_type": "stream",
     "text": [
      "Length of base: 10\n",
      "Measurement of height: 5\n",
      "Area is:  50.0\n"
     ]
    }
   ],
   "source": [
    "# Taking some values from user about parallelogram\n",
    "base = float(input('Length of base: '))\n",
    "height = float(input('Measurement of height: '))\n",
    "\n",
    "# Calculating Area of Parallelogram - b * h\n",
    "area = base * height\n",
    "\n",
    "# OUTPUTTTT\n",
    "print(\"Area is: \", area)"
   ]
  },
  {
   "cell_type": "markdown",
   "id": "6a5e8c72",
   "metadata": {},
   "source": [
    "### 60. Write a Python program to calculate surface volume and area of a cylinder"
   ]
  },
  {
   "cell_type": "code",
   "execution_count": 61,
   "id": "a969121a",
   "metadata": {},
   "outputs": [
    {
     "name": "stdout",
     "output_type": "stream",
     "text": [
      "Height of cylinder: 4\n",
      "Radius of cylinder: 6\n",
      "Volume is:  452.3893421169302\n",
      "Surface Area is:  376.99111843077515\n"
     ]
    }
   ],
   "source": [
    "# Importing the Math Module\n",
    "import math\n",
    "\n",
    "# Taking some values from user about Cylinder\n",
    "height = float(input('Height of cylinder: '))\n",
    "radian = float(input('Radius of cylinder: '))\n",
    "\n",
    "# Caculating Surface Volume and Area\n",
    "volume = math.pi * radian * radian * height\n",
    "sur_area = ((2*math.pi*radian) * height) + ((math.pi*radian**2)*2)\n",
    "\n",
    "# OUTPUTTTTT\n",
    "print(\"Volume is: \", volume)\n",
    "print(\"Surface Area is: \", sur_area)"
   ]
  },
  {
   "cell_type": "markdown",
   "id": "dafdb8a4",
   "metadata": {},
   "source": [
    "### 61. Write a Python program to returns sum of all divisors of a number"
   ]
  },
  {
   "cell_type": "code",
   "execution_count": 63,
   "id": "b7af5da3",
   "metadata": {},
   "outputs": [
    {
     "name": "stdout",
     "output_type": "stream",
     "text": [
      "Enter the Number you want for: 120\n",
      "Summation of all Divisors: 240\n"
     ]
    }
   ],
   "source": [
    "# Taking the Input from the user\n",
    "num  = int(input(\"Enter the Number you want for: \"))\n",
    "\n",
    "# sum for summation\n",
    "user_sum = 0\n",
    "\n",
    "# Running Loop\n",
    "for i in range(1,num):\n",
    "    # Checking for Divisor\n",
    "    if num % i == 0:\n",
    "        user_sum += i\n",
    "        \n",
    "print(\"Summation of all Divisors:\",user_sum)"
   ]
  },
  {
   "cell_type": "markdown",
   "id": "35ae6400",
   "metadata": {},
   "source": [
    "### 62. Write a Python program to find the maximum and minimum numbers from the specified decimal numbers."
   ]
  },
  {
   "cell_type": "code",
   "execution_count": 1,
   "id": "780273dd",
   "metadata": {},
   "outputs": [
    {
     "name": "stdout",
     "output_type": "stream",
     "text": [
      "Enter all Decimal Numbers serperated by Space: 1.2 8.3 6.9 0.0 10.0 1.9 7.6\n",
      "Maximum Number: 10.0\n",
      "Minimum Number: 0.0\n"
     ]
    }
   ],
   "source": [
    "# Taking the Input as a String from the User\n",
    "temp_string = input(\"Enter all Decimal Numbers serperated by Space: \")\n",
    "\n",
    "# Making a List out of the user String as all floats\n",
    "decimal_list = list(map(float,temp_string.split()))\n",
    "\n",
    "print(\"Maximum Number:\",max(decimal_list))\n",
    "print(\"Minimum Number:\",min(decimal_list))"
   ]
  },
  {
   "cell_type": "code",
   "execution_count": null,
   "id": "c95e3412",
   "metadata": {},
   "outputs": [],
   "source": []
  }
 ],
 "metadata": {
  "kernelspec": {
   "display_name": "Python 3 (ipykernel)",
   "language": "python",
   "name": "python3"
  },
  "language_info": {
   "codemirror_mode": {
    "name": "ipython",
    "version": 3
   },
   "file_extension": ".py",
   "mimetype": "text/x-python",
   "name": "python",
   "nbconvert_exporter": "python",
   "pygments_lexer": "ipython3",
   "version": "3.11.2"
  }
 },
 "nbformat": 4,
 "nbformat_minor": 5
}
