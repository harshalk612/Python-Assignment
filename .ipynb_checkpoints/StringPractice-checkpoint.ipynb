{
 "cells": [
  {
   "cell_type": "markdown",
   "id": "3dc723c9",
   "metadata": {},
   "source": [
    "#### 1) Python program to calculate the length of a string."
   ]
  },
  {
   "cell_type": "code",
   "execution_count": 5,
   "id": "c629014e",
   "metadata": {},
   "outputs": [
    {
     "name": "stdout",
     "output_type": "stream",
     "text": [
      "Enter the String for which You want length of: Ka\n",
      "The Length is: 2\n"
     ]
    }
   ],
   "source": [
    "# Taking the Input from user\n",
    "user_string = input(\"Enter the String for which You want length of: \")\n",
    "\n",
    "print(f\"The Length is: {len(user_string)}\")"
   ]
  },
  {
   "cell_type": "markdown",
   "id": "f2f3f2cb",
   "metadata": {},
   "source": [
    "#### 2) Python program to count the number of characters (character frequency) in a string"
   ]
  },
  {
   "cell_type": "code",
   "execution_count": 12,
   "id": "d2ab3ef8",
   "metadata": {},
   "outputs": [
    {
     "name": "stdout",
     "output_type": "stream",
     "text": [
      "Enter the String: XDDDD\n",
      "The Character Frequency: \n",
      "\n",
      "{'x': 1, 'd': 4}\n"
     ]
    }
   ],
   "source": [
    "# Taking the Input from user\n",
    "user_string = input(\"Enter the String: \").lower()\n",
    "char_dict = {}\n",
    "\n",
    "for i in user_string:\n",
    "    if i in char_dict:\n",
    "        char_dict[i] += 1\n",
    "    else:\n",
    "        char_dict[i] = 1\n",
    "    \n",
    "print(\"The Character Frequency: \\n\")\n",
    "print(char_dict)"
   ]
  },
  {
   "cell_type": "markdown",
   "id": "ab92c6d8",
   "metadata": {},
   "source": [
    "# constraint :- n is odd \n",
    "   *\n",
    "  * *\n",
    " * A *\n",
    "* B C *\n",
    " * D *\n",
    "  * *\n",
    "   *"
   ]
  },
  {
   "cell_type": "code",
   "execution_count": null,
   "id": "2eb28ff6",
   "metadata": {},
   "outputs": [],
   "source": [
    "n = int(input())\n",
    "\n",
    "n_spaces = n - 1\n",
    "for i in range(n):\n",
    "    for j in range(n_spaces):\n",
    "        print(\" \",end=\"\")\n",
    "    "
   ]
  },
  {
   "cell_type": "code",
   "execution_count": null,
   "id": "a7cdb01c",
   "metadata": {},
   "outputs": [],
   "source": []
  }
 ],
 "metadata": {
  "kernelspec": {
   "display_name": "Python 3 (ipykernel)",
   "language": "python",
   "name": "python3"
  },
  "language_info": {
   "codemirror_mode": {
    "name": "ipython",
    "version": 3
   },
   "file_extension": ".py",
   "mimetype": "text/x-python",
   "name": "python",
   "nbconvert_exporter": "python",
   "pygments_lexer": "ipython3",
   "version": "3.9.13"
  }
 },
 "nbformat": 4,
 "nbformat_minor": 5
}
