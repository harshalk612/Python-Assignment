{
 "cells": [
  {
   "cell_type": "markdown",
   "id": "05dec308",
   "metadata": {},
   "source": [
    "## Python Assignment | Module 2 (Fundamentals of Python)"
   ]
  },
  {
   "cell_type": "markdown",
   "id": "f4305fd2",
   "metadata": {},
   "source": [
    "### 1. Write a Python program to check if a number is positive, negative or zero."
   ]
  },
  {
   "cell_type": "code",
   "execution_count": 1,
   "id": "63aa30c1",
   "metadata": {},
   "outputs": [
    {
     "name": "stdout",
     "output_type": "stream",
     "text": [
      "Enter the number you want to check for: 0\n",
      "The Number is Neutral\n"
     ]
    }
   ],
   "source": [
    "# Taking the Input from the user\n",
    "num = int(input(\"Enter the number you want to check for: \"))\n",
    "\n",
    "# Writing the Conditional Statement for Checking Number\n",
    "if num >= 0:\n",
    "    if num == 0:\n",
    "        print(\"The Number is Neutral\")\n",
    "    else:\n",
    "        print(\"The Number is Positive\")\n",
    "else:\n",
    "    print(\"The Number is Negative\")"
   ]
  },
  {
   "cell_type": "markdown",
   "id": "e9590537",
   "metadata": {},
   "source": [
    "### 2. Write a Python program to get the Factorial number of given number."
   ]
  },
  {
   "cell_type": "code",
   "execution_count": 9,
   "id": "b8de1200",
   "metadata": {},
   "outputs": [
    {
     "name": "stdout",
     "output_type": "stream",
     "text": [
      "Enter the number you want to check for: 5\n",
      "The Factorial of 5 is: 120\n"
     ]
    }
   ],
   "source": [
    "# Taking the Input from the user\n",
    "num = int(input(\"Enter the number you want to check for: \"))\n",
    "\n",
    "# Defining the Variable Fact\n",
    "fact = 1\n",
    "\n",
    "# Using For Loop for Multiplying all elements\n",
    "for i in range(num,1,-1):\n",
    "    fact *= i\n",
    "print(f\"The Factorial of {num} is: {fact}\")"
   ]
  },
  {
   "cell_type": "markdown",
   "id": "66b2c6ca",
   "metadata": {},
   "source": [
    "### 3. Write a Python program to get the Fibonacci series of given range."
   ]
  },
  {
   "cell_type": "code",
   "execution_count": 30,
   "id": "cf20a694",
   "metadata": {},
   "outputs": [
    {
     "name": "stdout",
     "output_type": "stream",
     "text": [
      "Enter the Range you want for Fibonacci: 5\n",
      "The Fibonacci Series is: 0  1  1  2  3  "
     ]
    }
   ],
   "source": [
    "# Taking the input from user\n",
    "user_range = int(input(\"Enter the Range you want for Fibonacci: \"))\n",
    "\n",
    "# Some Needed Variables\n",
    "a=0\n",
    "b=1\n",
    "\n",
    "# Using If-Else Conditional Statement\n",
    "if user_range <= 0:\n",
    "    print(\"Enter Valid Range!!\")\n",
    "else:\n",
    "    print(\"The Fibonacci Series is: \", end=\"\")\n",
    "    for i in range(1,user_range+1):\n",
    "        print(a,end=\"  \")\n",
    "        c = a + b\n",
    "        a = b\n",
    "        b = c\n",
    "    "
   ]
  },
  {
   "cell_type": "markdown",
   "id": "6ea3bbcc",
   "metadata": {},
   "source": [
    "### 4. How memory is managed in Python?"
   ]
  },
  {
   "cell_type": "markdown",
   "id": "06aac801",
   "metadata": {},
   "source": [
    "- Python is a high-level programming language implemented in the C programming language. \n",
    "- The Python memory management system handles memory allocations in Python.\n",
    "- Because Python is so widely used in software development, building memory-efficient Python code is usually a need. As the use of massive data expands, the necessity of memory management is now stress-free.\n",
    "- According to the Python memory management documentation, Python has a private heap that stores our program’s objects and data structures. \n",
    "- Python memory manager takes care of the bulk of the memory management work and allows us to concentrate on our code."
   ]
  },
  {
   "cell_type": "markdown",
   "id": "b3591aed",
   "metadata": {},
   "source": [
    "### 5. What is the purpose of continue statement in python?"
   ]
  },
  {
   "cell_type": "markdown",
   "id": "3c98a8c7",
   "metadata": {},
   "source": [
    "- Python Continue statement is a loop control statement that forces to execute the next iteration of the loop while skipping the rest of the code inside the loop for the current iteration only, i.e. when the continue statement is executed in the loop, the code inside the loop following the continue statement will be skipped for the current iteration and the next iteration of the loop will begin.\n",
    "- Python continue Statement Syntax:\n",
    "\n",
    "`while True:\n",
    "    ...\n",
    "    if x == 10:\n",
    "        continue\n",
    "    print(x)`\n"
   ]
  },
  {
   "cell_type": "markdown",
   "id": "ab6af4d3",
   "metadata": {},
   "source": [
    "### 6. Write python program that swap two number with temp variable and without temp variable."
   ]
  },
  {
   "cell_type": "code",
   "execution_count": 3,
   "id": "39a22670",
   "metadata": {},
   "outputs": [
    {
     "name": "stdout",
     "output_type": "stream",
     "text": [
      "Enter the 1st Number: 2\n",
      "Enter the 2nd Number: 1\n",
      "Enter Choice 1 - With TEMP Variable, 2 - Without TEMP Variable: 2\n",
      "After swap, a: 1 | b: 2\n"
     ]
    }
   ],
   "source": [
    "# Taking the Inputs \n",
    "a = int(input(\"Enter the 1st Number: \"))\n",
    "b = int(input(\"Enter the 2nd Number: \"))\n",
    "choice = int(input(\"Enter Choice 1 - With TEMP Variable, 2 - Without TEMP Variable: \"))\n",
    "\n",
    "# Using If-Else and ELIF Conditional Statements\n",
    "if choice == 1:\n",
    "    temp = a\n",
    "    a = b\n",
    "    b = temp\n",
    "    print(f\"After swap, a: {a} | b: {b}\")\n",
    "    \n",
    "elif choice == 2: # a =3 b =1\n",
    "    a = a + b \n",
    "    b = a - b     a = a - b \n",
    "    print(f\"After swap, a: {a} | b: {b}\")\n",
    "\n",
    "else:\n",
    "    print(\"Only Valid Choices: 1 or 2\")"
   ]
  },
  {
   "cell_type": "markdown",
   "id": "e639224a",
   "metadata": {},
   "source": [
    "### 7. Write a Python program to find whether a given number is even or odd, print out an appropriate message to the user."
   ]
  },
  {
   "cell_type": "code",
   "execution_count": null,
   "id": "fd5a17c7",
   "metadata": {},
   "outputs": [],
   "source": [
    "# Taking the Input from the user\n",
    "num = int(input(\"Enter the number you want to check for: \"))\n",
    "\n",
    "# Writing the Conditional Statement for Checking Number\n",
    "if num % 2 == 0:\n",
    "    print(\"The Number is Even as It is Divisble by 2\")\n",
    "else:\n",
    "    print(\"The Number is Odd as It is not Divisble by 2\")"
   ]
  },
  {
   "cell_type": "markdown",
   "id": "9316cbf8",
   "metadata": {},
   "source": [
    "### 8. Write a Python program to test whether a passed letter is a vowel or not."
   ]
  },
  {
   "cell_type": "code",
   "execution_count": 2,
   "id": "354b5461",
   "metadata": {},
   "outputs": [
    {
     "name": "stdout",
     "output_type": "stream",
     "text": [
      "Enter the letter you want to check for: a\n",
      "The Passed letter is Vowel\n"
     ]
    }
   ],
   "source": [
    "# Taking the Input from the user\n",
    "letter = input(\"Enter the letter you want to check for: \").lower()\n",
    "\n",
    "# Writing the Conditional Statement\n",
    "if letter in [\"a\",\"e\",\"i\",\"o\",\"u\"]:\n",
    "    print(\"The Passed letter is Vowel\")\n",
    "else:\n",
    "    print(\"The Passed Letter is not Vowel Thus it is a Consonant\")"
   ]
  },
  {
   "cell_type": "markdown",
   "id": "f24dc2fc",
   "metadata": {},
   "source": [
    "### 9. Write a Python program to sum of three given integers. However, if two values are equal sum will be zero."
   ]
  },
  {
   "cell_type": "code",
   "execution_count": 6,
   "id": "c86c780c",
   "metadata": {
    "scrolled": true
   },
   "outputs": [
    {
     "name": "stdout",
     "output_type": "stream",
     "text": [
      "Enter the 1st Integer: -1\n",
      "Enter the 2nd Integer: 2\n",
      "Enter the 3rd Integer: 3\n",
      "The Sum is 4\n"
     ]
    }
   ],
   "source": [
    "# Taking the Input from the user\n",
    "a = int(input(\"Enter the 1st Integer: \"))\n",
    "b = int(input(\"Enter the 2nd Integer: \"))\n",
    "c = int(input(\"Enter the 3rd Integer: \"))\n",
    "\n",
    "# Writing the Conditional Statement\n",
    "if a == b or a == c or b == c:\n",
    "    sum = 0\n",
    "else:\n",
    "    sum = a + b + c\n",
    "    \n",
    "print(f\"The Sum is {sum}\")\n",
    "\n"
   ]
  },
  {
   "cell_type": "markdown",
   "id": "e21345ac",
   "metadata": {},
   "source": [
    "### 10. Write a Python program that will return true if the two given integer values are equal or their sum or difference is 5."
   ]
  },
  {
   "cell_type": "code",
   "execution_count": 9,
   "id": "021d6049",
   "metadata": {},
   "outputs": [
    {
     "name": "stdout",
     "output_type": "stream",
     "text": [
      "Enter the 1st Integer: 2\n",
      "Enter the 2nd Integer: 2\n",
      "True\n"
     ]
    }
   ],
   "source": [
    "# Defining the Function for Returning\n",
    "def checkFunc(a,b):\n",
    "    # Writing the Conditional Statement\n",
    "    if a == b or abs(a-b) == 5 or abs(a+b) == 5:\n",
    "        return True\n",
    "    else:\n",
    "        return False\n",
    "\n",
    "# Taking the Input from the user\n",
    "a = int(input(\"Enter the 1st Integer: \"))\n",
    "b = int(input(\"Enter the 2nd Integer: \"))\n",
    "\n",
    "checkFunc(a,b)"
   ]
  },
  {
   "cell_type": "markdown",
   "id": "8c7fbb9e",
   "metadata": {},
   "source": [
    "### 11. Write a python program to sum of the first n positive integers."
   ]
  },
  {
   "cell_type": "code",
   "execution_count": 10,
   "id": "daa9de28",
   "metadata": {},
   "outputs": [
    {
     "name": "stdout",
     "output_type": "stream",
     "text": [
      "Enter the no of integers you want sum of: 5\n",
      "The sum of first 5 Positive Integers is: 15\n"
     ]
    }
   ],
   "source": [
    "# Taking the Input from user\n",
    "n = int(input(\"Enter the no of integers you want sum of: \"))\n",
    "\n",
    "# Defining the Sum Variable\n",
    "sum = 0\n",
    "\n",
    "# Using For Loop for Summation of all Elements\n",
    "for i in range(n,0,-1):\n",
    "    sum += i\n",
    "\n",
    "#OUTPUTTTT\n",
    "print(f\"The sum of first {n} Positive Integers is: {sum}\")"
   ]
  },
  {
   "cell_type": "markdown",
   "id": "b7284a47",
   "metadata": {},
   "source": [
    "### 12. Write a Python program to calculate the length of a string."
   ]
  },
  {
   "cell_type": "code",
   "execution_count": 2,
   "id": "936e4e0f",
   "metadata": {},
   "outputs": [
    {
     "name": "stdout",
     "output_type": "stream",
     "text": [
      "Enter the String you want the length of: Harshal\n",
      "Length of Entered String: 7\n"
     ]
    }
   ],
   "source": [
    "# Taking the Input from user\n",
    "user_str = input(\"Enter the String you want the length of: \")\n",
    "\n",
    "#OUTPUTTTT\n",
    "print(\"Length of Entered String:\", len(user_str))"
   ]
  },
  {
   "cell_type": "markdown",
   "id": "dbce45af",
   "metadata": {},
   "source": [
    "### 13. Write a Python program to count the number of characters (character frequency) in a string"
   ]
  },
  {
   "cell_type": "code",
   "execution_count": 31,
   "id": "c026e654",
   "metadata": {},
   "outputs": [
    {
     "name": "stdout",
     "output_type": "stream",
     "text": [
      "Enter the String: HarshalKakaiya\n",
      "\n",
      "Char | Freq\n",
      "===========\n",
      "H    |   1\n",
      "a    |   5\n",
      "r    |   1\n",
      "s    |   1\n",
      "h    |   1\n",
      "l    |   1\n",
      "K    |   1\n",
      "k    |   1\n",
      "i    |   1\n",
      "y    |   1\n"
     ]
    }
   ],
   "source": [
    "# Taking the Input from user\n",
    "user_str = input(\"Enter the String: \")\n",
    "char_dict = {}\n",
    "\n",
    "# Using For Loop and If-Else Statement\n",
    "for i in user_str:\n",
    "    if i in char_dict:\n",
    "        char_dict[i] += 1\n",
    "    else:\n",
    "        char_dict[i] = 1\n",
    "        \n",
    "#OUTPUTTTT\n",
    "print(\"\\nChar | Freq\")\n",
    "print(\"===========\")\n",
    "\n",
    "for key in char_dict: \n",
    "    print(f\"{key}    |   {char_dict[key]}\")"
   ]
  },
  {
   "cell_type": "markdown",
   "id": "d0e3eaa4",
   "metadata": {},
   "source": [
    "### 14. What are negative indexes and why are they used?"
   ]
  },
  {
   "cell_type": "markdown",
   "id": "fe426d71",
   "metadata": {},
   "source": [
    "- As we know, indexes are used in arrays in all the programming languages. We can access the elements of an array by going through their indexes. But no programming language allows us to use a negative index value such as -4.\n",
    "- Python programming language supports negative indexing of arrays, something which is not available in arrays in most other programming languages.\n",
    "- This means that the index value of -1 gives the last element, and -2 gives the second last element of an array. The negative indexing starts from where the array ends. This means that the last element of the array is the first element in the negative indexing which is -1.\n",
    "- For Example:\n",
    "`str1 = \"Harshal\"\n",
    "str1[-1] ===> Gives the last element \"l\"\n",
    "str1[-2] ===> Gives the second last element \"a\"\n",
    "`"
   ]
  },
  {
   "cell_type": "markdown",
   "id": "f1715b69",
   "metadata": {},
   "source": [
    "### 15. Write a Python program to count occurrences of a substring in a string."
   ]
  },
  {
   "cell_type": "code",
   "execution_count": 2,
   "id": "65ae85c6",
   "metadata": {},
   "outputs": [
    {
     "name": "stdout",
     "output_type": "stream",
     "text": [
      "Enter the main String: Harshal\n",
      "Enter the Substring you want the count of: a\n",
      "Number of Occurences of substring:  2\n"
     ]
    }
   ],
   "source": [
    "# Taking the Input from the user\n",
    "user_string = input(\"Enter the main String: \")\n",
    "user_substring = input(\"Enter the Substring you want the count of: \")\n",
    "\n",
    "#OUTPUTTTT\n",
    "print(\"Number of Occurences of substring: \", user_string.count(user_substring))"
   ]
  },
  {
   "cell_type": "markdown",
   "id": "160fbc7e",
   "metadata": {},
   "source": [
    "### 16. Write a Python program to count the occurrences of each word in a given sentence"
   ]
  },
  {
   "cell_type": "code",
   "execution_count": 20,
   "id": "3ef3785c",
   "metadata": {},
   "outputs": [
    {
     "name": "stdout",
     "output_type": "stream",
     "text": [
      "Enter the whole Sentence: Harshal is is a Good Good Coder\n",
      "\n",
      "Word\t|  Freq\n",
      "========================\n",
      "Harshal\t|  1\n",
      "is\t|  2\n",
      "a\t|  1\n",
      "Good\t|  2\n",
      "Coder\t|  1\n"
     ]
    }
   ],
   "source": [
    "# Taking the Input from the user\n",
    "user_sentence = input(\"Enter the whole Sentence: \")\n",
    "word_dict = {}\n",
    "\n",
    "words_list = user_sentence.split()\n",
    "\n",
    "# Using For Loop\n",
    "for i in words_list:\n",
    "    if i in word_dict:\n",
    "        word_dict[i] += 1\n",
    "    else:\n",
    "        word_dict[i] = 1\n",
    "\n",
    "#OUTPUTTTT\n",
    "print(\"\\nWord\\t|  Freq\")\n",
    "print(\"========================\")\n",
    "\n",
    "for key in word_dict: \n",
    "    print(f\"{key}\\t|  {word_dict[key]}\")"
   ]
  },
  {
   "cell_type": "markdown",
   "id": "c9543cd4",
   "metadata": {},
   "source": [
    "### 17. Write a Python program to get a single string from two given strings, separated by a space and swap the first two characters of each string."
   ]
  },
  {
   "cell_type": "code",
   "execution_count": 27,
   "id": "f490f95b",
   "metadata": {},
   "outputs": [
    {
     "name": "stdout",
     "output_type": "stream",
     "text": [
      "Enter the 1st String: Harshal\n",
      "Enter the 2nd String: Kakaiya\n",
      "\n",
      "Final String: Karshal Hakaiya\n"
     ]
    }
   ],
   "source": [
    "# Taking the Input from the user\n",
    "str1 = input(\"Enter the 1st String: \")\n",
    "str2 = input(\"Enter the 2nd String: \")\n",
    "\n",
    "two_char_s1 = str1[0:2]\n",
    "str1 = str1.replace(str1[0:2],str2[0:2])\n",
    "str2 = str2.replace(str2[0:2],two_char_s1) \n",
    "\n",
    "#OUTPUTTTT\n",
    "print(\"\\nFinal String:\",str1,str2) # For Printing Both with a space"
   ]
  },
  {
   "cell_type": "markdown",
   "id": "3444a8b7",
   "metadata": {},
   "source": [
    "### 18. Write a Python program to add 'ing' at the end of a given string (length should be at least 3). If the given string already ends with 'ing' then add 'ly' instead if the string length of the given string is less than 3, leave it unchanged."
   ]
  },
  {
   "cell_type": "code",
   "execution_count": 9,
   "id": "f587ff33",
   "metadata": {},
   "outputs": [
    {
     "name": "stdout",
     "output_type": "stream",
     "text": [
      "Enter the String: Harshal\n",
      "Final String: Harshaling\n"
     ]
    }
   ],
   "source": [
    "# Taking the Input form the User\n",
    "user_string = input(\"Enter the String: \")\n",
    "\n",
    "# using NestedIf Conditional Statement\n",
    "if len(user_string) >= 3:\n",
    "    if user_string.endswith(\"ing\"):\n",
    "        final_string = user_string + \"ly\"\n",
    "    else:\n",
    "        final_string = user_string + \"ing\"\n",
    "else:\n",
    "    final_string = user_string\n",
    "\n",
    "# OUPUTTTT\n",
    "print(\"Final String:\",final_string)"
   ]
  },
  {
   "cell_type": "markdown",
   "id": "21591ec3",
   "metadata": {},
   "source": [
    "### 19. Write a Python program to find the first appearance of the substring 'not' and 'poor' from a given string, if 'not' follows the 'poor', replace the whole 'not'...'poor' substring with 'good'. Return the resulting string."
   ]
  },
  {
   "cell_type": "code",
   "execution_count": 23,
   "id": "d292be2e",
   "metadata": {},
   "outputs": [
    {
     "name": "stdout",
     "output_type": "stream",
     "text": [
      "Enter the String: The Lyrics of the Song are not that poor\n",
      "Final String: The Lyrics of the Song are good\n"
     ]
    }
   ],
   "source": [
    "# Taking the Input form the User\n",
    "user_string = input(\"Enter the String: \")\n",
    "\n",
    "# Finding the Apperance of NOT & POOR\n",
    "pos_not = user_string.find(\"not\")\n",
    "pos_poor = user_string.find(\"poor\")\n",
    "\n",
    "#Using the If-Else Conditional Statement\n",
    "if pos_poor > pos_not and pos_poor > 0 and pos_not >0:\n",
    "    final_string = user_string.replace(user_string[pos_not:(pos_poor+4)],\"good\")\n",
    "else:\n",
    "    final_string = user_string\n",
    "    \n",
    "# print(pos_not,pos_poor)\n",
    "\n",
    "#OUTPUTTTT\n",
    "print(\"Final String:\",final_string)"
   ]
  },
  {
   "cell_type": "markdown",
   "id": "c6f555b6",
   "metadata": {},
   "source": [
    "### 20. Write a Python function that takes a list of words and returns the length of the longest one."
   ]
  },
  {
   "cell_type": "code",
   "execution_count": 22,
   "id": "b54ca032",
   "metadata": {},
   "outputs": [
    {
     "name": "stdout",
     "output_type": "stream",
     "text": [
      "Please input a list of words to evaluate: Harshal Kakaiya is us dsnjsndjsdnsd\n",
      "\n",
      "Longest word: dsnjsndjsdnsd | Length: 13\n"
     ]
    }
   ],
   "source": [
    "# Defining the Function that Finds the Longest Word and Its Length\n",
    "def find_longest_word(user_text):\n",
    "    longest_len = 0\n",
    "    for words in user_text.split():\n",
    "        if len(words) > longest_len:\n",
    "            longest_len = len(words)\n",
    "            longest_word = words\n",
    "    return longest_word\n",
    "\n",
    "#Taking Input from the user\n",
    "user_string = input(\"Please input a list of words to evaluate: \")\n",
    "longest_word = find_longest_word(user_string)\n",
    "\n",
    "#OUTPUTTTT\n",
    "print(\"\\nLongest word:\", longest_word, \"| Length:\", len(longest_word))"
   ]
  },
  {
   "cell_type": "markdown",
   "id": "cb3f36b9",
   "metadata": {},
   "source": [
    "### 21. Write a Python function to reverses a string if its length is a multiple of 4."
   ]
  },
  {
   "cell_type": "code",
   "execution_count": 29,
   "id": "72bf0a16",
   "metadata": {},
   "outputs": [
    {
     "name": "stdout",
     "output_type": "stream",
     "text": [
      "Enter the String: HarshalK\n",
      "Final String: KlahsraH\n"
     ]
    }
   ],
   "source": [
    "# Defining the Function\n",
    "def reversed_string(user_string):\n",
    "    if len(user_string) % 4 == 0:\n",
    "        final_string = user_string[::-1]\n",
    "    else:\n",
    "        final_string = user_string\n",
    "    return final_string\n",
    "\n",
    "# Taking the Input form the User\n",
    "user_string = input(\"Enter the String: \")\n",
    "    \n",
    "# Calling the Function\n",
    "final_string = reversed_string(user_string)\n",
    "\n",
    "#OUTPUTTTT\n",
    "print(\"Final String:\",final_string)"
   ]
  },
  {
   "cell_type": "markdown",
   "id": "ebf3f8c3",
   "metadata": {},
   "source": [
    "### 22. Write a Python program to get a string made of the first 2 and the last 2 chars from a given a string. If the string length is less than 2, return instead of the empty string."
   ]
  },
  {
   "cell_type": "code",
   "execution_count": 34,
   "id": "388fff37",
   "metadata": {},
   "outputs": [
    {
     "name": "stdout",
     "output_type": "stream",
     "text": [
      "Enter the String: PythonLanguage\n",
      "Final String: Pyge\n"
     ]
    }
   ],
   "source": [
    "# Taking the Input form the User\n",
    "user_string = input(\"Enter the String: \")\n",
    "\n",
    "if len(user_string) < 2:\n",
    "    final_string = \"\"\n",
    "else:\n",
    "    final_string = user_string[0:2] + user_string[-2::1]\n",
    "\n",
    "#OUTPUTTTT\n",
    "print(\"Final String:\",final_string)"
   ]
  },
  {
   "cell_type": "markdown",
   "id": "4085e912",
   "metadata": {},
   "source": [
    "### 23. Write a Python function to insert a string in the middle of a string."
   ]
  },
  {
   "cell_type": "code",
   "execution_count": 39,
   "id": "7e9a4b8f",
   "metadata": {},
   "outputs": [
    {
     "name": "stdout",
     "output_type": "stream",
     "text": [
      "Enter the Main String: HarshalK\n",
      "Enter the Substring you want to insert: Python\n",
      "Final String: HarsPythonhalK\n"
     ]
    }
   ],
   "source": [
    "def insert_string(user_string, sub_string):\n",
    "    mid_index = (len(user_string) // 2) - 1\n",
    "    final_string = user_string[0:mid_index+1] + sub_string + user_string[mid_index+1:]\n",
    "    return final_string\n",
    "    \n",
    "# Taking the Input form the User\n",
    "user_string = input(\"Enter the Main String: \")\n",
    "user_sub_string = input(\"Enter the Substring you want to insert: \")\n",
    "\n",
    "# Calling the Function \n",
    "final_string = insert_string(user_string,user_sub_string)\n",
    "\n",
    "#OUTPUTTTT\n",
    "print(\"Final String:\",final_string)"
   ]
  }
 ],
 "metadata": {
  "kernelspec": {
   "display_name": "Python 3 (ipykernel)",
   "language": "python",
   "name": "python3"
  },
  "language_info": {
   "codemirror_mode": {
    "name": "ipython",
    "version": 3
   },
   "file_extension": ".py",
   "mimetype": "text/x-python",
   "name": "python",
   "nbconvert_exporter": "python",
   "pygments_lexer": "ipython3",
   "version": "3.11.2"
  },
  "vscode": {
   "interpreter": {
    "hash": "c261aea317cc0286b3b3261fbba9abdec21eaa57589985bb7a274bf54d6cc0a7"
   }
  }
 },
 "nbformat": 4,
 "nbformat_minor": 5
}
